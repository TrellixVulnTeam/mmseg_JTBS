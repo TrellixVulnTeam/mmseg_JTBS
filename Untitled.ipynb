{
 "cells": [
  {
   "cell_type": "code",
   "execution_count": 1,
   "id": "dead406b-703b-4935-b114-d02595e0d14b",
   "metadata": {},
   "outputs": [
    {
     "name": "stdout",
     "output_type": "stream",
     "text": [
      "/home/featurize/work/mmseg\n"
     ]
    }
   ],
   "source": [
    "%cd ~/work/mmseg"
   ]
  },
  {
   "cell_type": "code",
   "execution_count": 12,
   "id": "27406423-15c9-45ce-9644-fd8308d3537f",
   "metadata": {},
   "outputs": [
    {
     "name": "stdout",
     "output_type": "stream",
     "text": [
      "^C\n",
      "Traceback (most recent call last):\n",
      "  File \"tools/test.py\", line 9, in <module>\n",
      "    import mmcv\n",
      "  File \"/environment/miniconda3/lib/python3.7/site-packages/mmcv/__init__.py\", line 4, in <module>\n",
      "    from .fileio import *\n",
      "  File \"/environment/miniconda3/lib/python3.7/site-packages/mmcv/fileio/__init__.py\", line 2, in <module>\n",
      "    from .file_client import BaseStorageBackend, FileClient\n",
      "  File \"/environment/miniconda3/lib/python3.7/site-packages/mmcv/fileio/file_client.py\", line 15, in <module>\n",
      "    from mmcv.utils.misc import has_method\n",
      "  File \"/environment/miniconda3/lib/python3.7/site-packages/mmcv/utils/__init__.py\", line 22, in <module>\n",
      "    import torch\n",
      "  File \"/environment/miniconda3/lib/python3.7/site-packages/torch/__init__.py\", line 29, in <module>\n",
      "    from .torch_version import __version__ as __version__\n",
      "  File \"/environment/miniconda3/lib/python3.7/site-packages/torch/torch_version.py\", line 3, in <module>\n",
      "    from pkg_resources import packaging  # type: ignore[attr-defined]\n",
      "  File \"/environment/miniconda3/lib/python3.7/site-packages/pkg_resources/__init__.py\", line 3242, in <module>\n",
      "    @_call_aside\n",
      "  File \"/environment/miniconda3/lib/python3.7/site-packages/pkg_resources/__init__.py\", line 3226, in _call_aside\n",
      "    f(*args, **kwargs)\n",
      "  File \"/environment/miniconda3/lib/python3.7/site-packages/pkg_resources/__init__.py\", line 3255, in _initialize_master_working_set\n",
      "    working_set = WorkingSet._build_master()\n",
      "  File \"/environment/miniconda3/lib/python3.7/site-packages/pkg_resources/__init__.py\", line 559, in _build_master\n",
      "    ws = cls()\n",
      "  File \"/environment/miniconda3/lib/python3.7/site-packages/pkg_resources/__init__.py\", line 552, in __init__\n",
      "    self.add_entry(entry)\n",
      "  File \"/environment/miniconda3/lib/python3.7/site-packages/pkg_resources/__init__.py\", line 608, in add_entry\n",
      "    for dist in find_distributions(entry, True):\n",
      "  File \"/environment/miniconda3/lib/python3.7/site-packages/pkg_resources/__init__.py\", line 2063, in find_on_path\n",
      "    for dist in factory(fullpath):\n",
      "  File \"/environment/miniconda3/lib/python3.7/site-packages/pkg_resources/__init__.py\", line 2129, in distributions_from_metadata\n",
      "    root, entry, metadata, precedence=DEVELOP_DIST,\n",
      "  File \"/environment/miniconda3/lib/python3.7/site-packages/pkg_resources/__init__.py\", line 2590, in from_location\n",
      "    py_version=py_version, platform=platform, **kw\n",
      "  File \"/environment/miniconda3/lib/python3.7/site-packages/pkg_resources/__init__.py\", line 2569, in __init__\n",
      "    self._version = safe_version(version)\n",
      "  File \"/environment/miniconda3/lib/python3.7/site-packages/pkg_resources/__init__.py\", line 1318, in safe_version\n",
      "    return str(packaging.version.Version(version))\n",
      "  File \"/environment/miniconda3/lib/python3.7/site-packages/pkg_resources/_vendor/packaging/version.py\", line 275, in __init__\n",
      "    match = self._regex.search(version)\n",
      "KeyboardInterrupt\n"
     ]
    }
   ],
   "source": [
    "!python tools/test.py --eval=mDice /home/featurize/work/mmseg/work_dirs/upernet_swin_tiny_patch4_window7_CVC/upernet_swin_tiny_patch4_window7_CVC.py /home/featurize/work/mmseg/work_dirs/upernet_swin_tiny_patch4_window7_CVC/iter_160000.pth"
   ]
  },
  {
   "cell_type": "code",
   "execution_count": 5,
   "id": "fda1911e-334e-4576-ba51-68101c5d6a42",
   "metadata": {},
   "outputs": [],
   "source": []
  },
  {
   "cell_type": "code",
   "execution_count": null,
   "id": "9d40e2e5-4616-4d25-9dd4-bfeae8f8bc3c",
   "metadata": {},
   "outputs": [],
   "source": []
  }
 ],
 "metadata": {
  "kernelspec": {
   "display_name": "Python 3 (ipykernel)",
   "language": "python",
   "name": "python3"
  },
  "language_info": {
   "codemirror_mode": {
    "name": "ipython",
    "version": 3
   },
   "file_extension": ".py",
   "mimetype": "text/x-python",
   "name": "python",
   "nbconvert_exporter": "python",
   "pygments_lexer": "ipython3",
   "version": "3.7.10"
  }
 },
 "nbformat": 4,
 "nbformat_minor": 5
}
